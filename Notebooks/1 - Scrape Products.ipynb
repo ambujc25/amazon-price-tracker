{
 "cells": [
  {
   "cell_type": "code",
   "execution_count": 1,
   "metadata": {},
   "outputs": [],
   "source": [
    "import re\n",
    "import os\n",
    "import time\n",
    "import selenium\n",
    "import pandas as pd\n",
    "from selenium import webdriver\n",
    "from requests_html import HTML\n",
    "from selenium.webdriver.chrome.options import Options"
   ]
  },
  {
   "cell_type": "code",
   "execution_count": 21,
   "metadata": {},
   "outputs": [],
   "source": [
    "#options = Options()\n",
    "#options.add_argument('--headless')\n",
    "browser = webdriver.Chrome()"
   ]
  },
  {
   "cell_type": "code",
   "execution_count": 3,
   "metadata": {},
   "outputs": [],
   "source": [
    "base_dir = os.path.dirname(os.getcwd())\n",
    "data_dir = os.path.join(base_dir,'Data')\n",
    "os.makedirs(data_dir,exist_ok=True)\n",
    "file_path = os.path.join(data_dir,\"urls.csv\")\n",
    "urls = pd.read_csv(file_path)\n",
    "#urls = ['https://www.amazon.in/gp/product/B07S851WX5','https://www.amazon.in/gp/product/B082FTPRSK/','https://www.amazon.in/gp/product/B0895DY6F5/','https://www.amazon.in/gp/product/B00KX0I112/','https://www.amazon.in/HyperX-Cloud-Alpha-Gaming-Headset/dp/B074NBSF9N/']"
   ]
  },
  {
   "cell_type": "code",
   "execution_count": 23,
   "metadata": {},
   "outputs": [],
   "source": [
    "def scrape_data(url):\n",
    "    browser.get(url)\n",
    "    time.sleep(2)\n",
    "    html_data = browser.find_element_by_css_selector('body').get_attribute(\"innerHTML\")\n",
    "    html_str = HTML(html=html_data)\n",
    "\n",
    "    try:\n",
    "        avbl = html_str.find(\"#availability\")[0].text\n",
    "    except:\n",
    "        avbl = \"Currently\"\n",
    "        \n",
    "    title_el = html_str.find('#productTitle')[0].text\n",
    "    \n",
    "    data_el = []\n",
    "    \n",
    "    if not avbl.startswith(\"Currently\"):\n",
    "        price_el = html_str.find('#priceblock_ourprice')[0].text\n",
    "        try:\n",
    "            saving_el = html_str.find(\"#regularprice_savings\")[0].text.split('(')[1].split(')')[0]\n",
    "        except:\n",
    "            saving_el = \"0%\"\n",
    "        data_el.append({\"Title\": title_el, \"Price\": price_el, \"Available\":avbl, \"Saving\": saving_el})\n",
    "    else:\n",
    "        avbl = avbl.split('.')[0]\n",
    "        data_el.append({\"Title\": title_el, \"Price\": \"NA\", \"Available\":avbl, \"Saving\": \"NA\"})\n",
    "            \n",
    "    return data_el"
   ]
  },
  {
   "cell_type": "code",
   "execution_count": 19,
   "metadata": {},
   "outputs": [],
   "source": [
    "def get_data(urls):\n",
    "    dataset = []\n",
    "    for url in urls:\n",
    "        dataset.append(scrape_data(url)[0])\n",
    "        \n",
    "    return dataset"
   ]
  },
  {
   "cell_type": "code",
   "execution_count": 24,
   "metadata": {
    "scrolled": false
   },
   "outputs": [
    {
     "data": {
      "text/html": [
       "<div>\n",
       "<style scoped>\n",
       "    .dataframe tbody tr th:only-of-type {\n",
       "        vertical-align: middle;\n",
       "    }\n",
       "\n",
       "    .dataframe tbody tr th {\n",
       "        vertical-align: top;\n",
       "    }\n",
       "\n",
       "    .dataframe thead th {\n",
       "        text-align: right;\n",
       "    }\n",
       "</style>\n",
       "<table border=\"1\" class=\"dataframe\">\n",
       "  <thead>\n",
       "    <tr style=\"text-align: right;\">\n",
       "      <th></th>\n",
       "      <th>Title</th>\n",
       "      <th>Price</th>\n",
       "      <th>Available</th>\n",
       "      <th>Saving</th>\n",
       "    </tr>\n",
       "  </thead>\n",
       "  <tbody>\n",
       "    <tr>\n",
       "      <th>0</th>\n",
       "      <td>Prestige Sandwich Maker PGMFD 01</td>\n",
       "      <td>₹ 1,059.00</td>\n",
       "      <td>In stock.</td>\n",
       "      <td>29%</td>\n",
       "    </tr>\n",
       "    <tr>\n",
       "      <th>1</th>\n",
       "      <td>Zinq Technologies Cool Slate Five Fan Cooling ...</td>\n",
       "      <td>₹ 1,299.00</td>\n",
       "      <td>Available to ship in 1-2 days.</td>\n",
       "      <td>35%</td>\n",
       "    </tr>\n",
       "  </tbody>\n",
       "</table>\n",
       "</div>"
      ],
      "text/plain": [
       "                                               Title       Price  \\\n",
       "0                   Prestige Sandwich Maker PGMFD 01  ₹ 1,059.00   \n",
       "1  Zinq Technologies Cool Slate Five Fan Cooling ...  ₹ 1,299.00   \n",
       "\n",
       "                        Available Saving  \n",
       "0                       In stock.    29%  \n",
       "1  Available to ship in 1-2 days.    35%  "
      ]
     },
     "execution_count": 24,
     "metadata": {},
     "output_type": "execute_result"
    }
   ],
   "source": [
    "urls_list = []\n",
    "for i in range(urls.shape[0]):\n",
    "    if urls.iloc[i][\"Urls\"].startswith('http'):\n",
    "        urls_list.append(urls.iloc[i][\"Urls\"])\n",
    "\n",
    "dataset = get_data(urls_list)\n",
    "df = pd.DataFrame(dataset)\n",
    "df.head(n=urls.shape[0])"
   ]
  },
  {
   "cell_type": "code",
   "execution_count": 16,
   "metadata": {},
   "outputs": [],
   "source": [
    "target_filepath = os.path.join(data_dir,'target.csv')\n",
    "df.to_csv(target_filepath,index=False)"
   ]
  },
  {
   "cell_type": "code",
   "execution_count": null,
   "metadata": {},
   "outputs": [],
   "source": []
  }
 ],
 "metadata": {
  "kernelspec": {
   "display_name": "Python 3",
   "language": "python",
   "name": "python3"
  },
  "language_info": {
   "codemirror_mode": {
    "name": "ipython",
    "version": 3
   },
   "file_extension": ".py",
   "mimetype": "text/x-python",
   "name": "python",
   "nbconvert_exporter": "python",
   "pygments_lexer": "ipython3",
   "version": "3.8.5"
  }
 },
 "nbformat": 4,
 "nbformat_minor": 4
}
